{
 "cells": [
  {
   "cell_type": "code",
   "execution_count": null,
   "metadata": {},
   "outputs": [],
   "source": [
    "import zcatalyst_sdk\n",
    "def handler(context, basicio):\n",
    "    app = zcatalyst_sdk.initialize()\n",
    "#This app variable is used to access the catalyst components.\n",
    "#Your business logic comes here\n",
    "    \n"
   ]
  },
  {
   "cell_type": "code",
   "execution_count": null,
   "metadata": {},
   "outputs": [],
   "source": [
    "def handler(request: Request):\n",
    "    app = zcatalyst_sdk.initialize()\n",
    "#This app variable is used to access the catalyst components.\n",
    "#Your business logic comes here"
   ]
  },
  {
   "cell_type": "code",
   "execution_count": null,
   "metadata": {},
   "outputs": [],
   "source": [
    "import zcatalyst_sdk\n",
    "def handler(request: Request):\n",
    "    app = zcatalyst_sdk.initialize(scope='user')\n",
    "#This app variable is used to access the catalyst components.\n",
    "#Your business logic comes here"
   ]
  },
  {
   "cell_type": "code",
   "execution_count": 21,
   "metadata": {},
   "outputs": [
    {
     "ename": "NameError",
     "evalue": "name 'app' is not defined",
     "output_type": "error",
     "traceback": [
      "\u001b[0;31m---------------------------------------------------------------------------\u001b[0m",
      "\u001b[0;31mNameError\u001b[0m                                 Traceback (most recent call last)",
      "Cell \u001b[0;32mIn[21], line 2\u001b[0m\n\u001b[1;32m      1\u001b[0m \u001b[38;5;66;03m#Get function component instance \u001b[39;00m\n\u001b[0;32m----> 2\u001b[0m function_service \u001b[38;5;241m=\u001b[39m app\u001b[38;5;241m.\u001b[39mfunctions()\n\u001b[1;32m      3\u001b[0m args \u001b[38;5;241m=\u001b[39m {\n\u001b[1;32m      4\u001b[0m     \u001b[38;5;124m\"\u001b[39m\u001b[38;5;124mName\u001b[39m\u001b[38;5;124m\"\u001b[39m: \u001b[38;5;124m'\u001b[39m\u001b[38;5;124mAmelia\u001b[39m\u001b[38;5;124m'\u001b[39m\n\u001b[1;32m      5\u001b[0m        }\n\u001b[1;32m      6\u001b[0m return_value \u001b[38;5;241m=\u001b[39m function_service\u001b[38;5;241m.\u001b[39mexecute(\u001b[38;5;241m5249000000015567\u001b[39m, args)\n",
      "\u001b[0;31mNameError\u001b[0m: name 'app' is not defined"
     ]
    }
   ],
   "source": [
    "#Get function component instance \n",
    "function_service = app.functions()\n",
    "args = {\n",
    "    \"Name\": 'Amelia'\n",
    "       }\n",
    "return_value = function_service.execute(5249000000015567, args)"
   ]
  },
  {
   "cell_type": "code",
   "execution_count": 22,
   "metadata": {},
   "outputs": [
    {
     "name": "stdout",
     "output_type": "stream",
     "text": [
      "Collecting zcrmsdk\n",
      "  Obtaining dependency information for zcrmsdk from https://files.pythonhosted.org/packages/d6/d9/96b9bd56dddac6aec9fa9c658bd7b90c15bd3f5b6f69481cc4e0061e1a26/zcrmsdk-3.1.0-py2.py3-none-any.whl.metadata\n",
      "  Downloading zcrmsdk-3.1.0-py2.py3-none-any.whl.metadata (40 kB)\n",
      "\u001b[2K     \u001b[90m━━━━━━━━━━━━━━━━━━━━━━━━━━━━━━━━━━━━━━━━\u001b[0m \u001b[32m40.0/40.0 kB\u001b[0m \u001b[31m1.5 MB/s\u001b[0m eta \u001b[36m0:00:00\u001b[0m\n",
      "\u001b[?25hRequirement already satisfied: requests in /Users/markhenry/anaconda3/lib/python3.11/site-packages (from zcrmsdk) (2.28.1)\n",
      "Requirement already satisfied: python-dateutil in /Users/markhenry/anaconda3/lib/python3.11/site-packages (from zcrmsdk) (2.8.2)\n",
      "Requirement already satisfied: urllib3 in /Users/markhenry/anaconda3/lib/python3.11/site-packages (from zcrmsdk) (1.26.16)\n",
      "Requirement already satisfied: six>=1.5 in /Users/markhenry/anaconda3/lib/python3.11/site-packages (from python-dateutil->zcrmsdk) (1.16.0)\n",
      "Requirement already satisfied: charset-normalizer<3,>=2 in /Users/markhenry/anaconda3/lib/python3.11/site-packages (from requests->zcrmsdk) (2.0.4)\n",
      "Requirement already satisfied: idna<4,>=2.5 in /Users/markhenry/anaconda3/lib/python3.11/site-packages (from requests->zcrmsdk) (3.4)\n",
      "Requirement already satisfied: certifi>=2017.4.17 in /Users/markhenry/anaconda3/lib/python3.11/site-packages (from requests->zcrmsdk) (2023.11.17)\n",
      "Downloading zcrmsdk-3.1.0-py2.py3-none-any.whl (379 kB)\n",
      "\u001b[2K   \u001b[90m━━━━━━━━━━━━━━━━━━━━━━━━━━━━━━━━━━━━━━━━\u001b[0m \u001b[32m379.5/379.5 kB\u001b[0m \u001b[31m4.7 MB/s\u001b[0m eta \u001b[36m0:00:00\u001b[0m00:01\u001b[0m00:01\u001b[0m\n",
      "\u001b[?25hInstalling collected packages: zcrmsdk\n",
      "Successfully installed zcrmsdk-3.1.0\n",
      "Note: you may need to restart the kernel to use updated packages.\n"
     ]
    }
   ],
   "source": [
    "pip install zcrmsdk"
   ]
  },
  {
   "cell_type": "code",
   "execution_count": 23,
   "metadata": {},
   "outputs": [
    {
     "ename": "SyntaxError",
     "evalue": "invalid syntax (3558270127.py, line 1)",
     "output_type": "error",
     "traceback": [
      "\u001b[0;36m  Cell \u001b[0;32mIn[23], line 1\u001b[0;36m\u001b[0m\n\u001b[0;31m    pipenv shell\u001b[0m\n\u001b[0m           ^\u001b[0m\n\u001b[0;31mSyntaxError\u001b[0m\u001b[0;31m:\u001b[0m invalid syntax\n"
     ]
    }
   ],
   "source": [
    "pipenv shell"
   ]
  },
  {
   "cell_type": "code",
   "execution_count": 24,
   "metadata": {},
   "outputs": [
    {
     "name": "stdout",
     "output_type": "stream",
     "text": [
      "Collecting pipenv\n",
      "  Obtaining dependency information for pipenv from https://files.pythonhosted.org/packages/f4/58/a8a005cc4d4018d6a679b033c96d760fe262f361117f70f018b77e2333c6/pipenv-2023.12.1-py3-none-any.whl.metadata\n",
      "  Downloading pipenv-2023.12.1-py3-none-any.whl.metadata (19 kB)\n",
      "Requirement already satisfied: certifi in /Users/markhenry/anaconda3/lib/python3.11/site-packages (from pipenv) (2023.11.17)\n",
      "Requirement already satisfied: setuptools>=67 in /Users/markhenry/anaconda3/lib/python3.11/site-packages (from pipenv) (68.0.0)\n",
      "Collecting virtualenv>=20.24.2 (from pipenv)\n",
      "  Obtaining dependency information for virtualenv>=20.24.2 from https://files.pythonhosted.org/packages/16/65/0d0bdfdac31e2db8c6d6c18fe1e00236f0dea279f9846f94a9aafa49cfc9/virtualenv-20.25.1-py3-none-any.whl.metadata\n",
      "  Downloading virtualenv-20.25.1-py3-none-any.whl.metadata (4.4 kB)\n",
      "Collecting distlib<1,>=0.3.7 (from virtualenv>=20.24.2->pipenv)\n",
      "  Obtaining dependency information for distlib<1,>=0.3.7 from https://files.pythonhosted.org/packages/8e/41/9307e4f5f9976bc8b7fea0b66367734e8faf3ec84bc0d412d8cfabbb66cd/distlib-0.3.8-py2.py3-none-any.whl.metadata\n",
      "  Downloading distlib-0.3.8-py2.py3-none-any.whl.metadata (5.1 kB)\n",
      "Collecting filelock<4,>=3.12.2 (from virtualenv>=20.24.2->pipenv)\n",
      "  Obtaining dependency information for filelock<4,>=3.12.2 from https://files.pythonhosted.org/packages/8b/69/acdf492db27dea7be5c63053230130e0574fd8a376de3555d5f8bbc3d3ad/filelock-3.13.3-py3-none-any.whl.metadata\n",
      "  Downloading filelock-3.13.3-py3-none-any.whl.metadata (2.8 kB)\n",
      "Requirement already satisfied: platformdirs<5,>=3.9.1 in /Users/markhenry/anaconda3/lib/python3.11/site-packages (from virtualenv>=20.24.2->pipenv) (3.10.0)\n",
      "Downloading pipenv-2023.12.1-py3-none-any.whl (3.1 MB)\n",
      "\u001b[2K   \u001b[90m━━━━━━━━━━━━━━━━━━━━━━━━━━━━━━━━━━━━━━━━\u001b[0m \u001b[32m3.1/3.1 MB\u001b[0m \u001b[31m7.3 MB/s\u001b[0m eta \u001b[36m0:00:00\u001b[0m00:01\u001b[0m00:01\u001b[0m\n",
      "\u001b[?25hDownloading virtualenv-20.25.1-py3-none-any.whl (3.8 MB)\n",
      "\u001b[2K   \u001b[90m━━━━━━━━━━━━━━━━━━━━━━━━━━━━━━━━━━━━━━━━\u001b[0m \u001b[32m3.8/3.8 MB\u001b[0m \u001b[31m12.5 MB/s\u001b[0m eta \u001b[36m0:00:00\u001b[0m00:01\u001b[0m00:01\u001b[0m\n",
      "\u001b[?25hDownloading distlib-0.3.8-py2.py3-none-any.whl (468 kB)\n",
      "\u001b[2K   \u001b[90m━━━━━━━━━━━━━━━━━━━━━━━━━━━━━━━━━━━━━━━━\u001b[0m \u001b[32m468.9/468.9 kB\u001b[0m \u001b[31m13.3 MB/s\u001b[0m eta \u001b[36m0:00:00\u001b[0m00:01\u001b[0m\n",
      "\u001b[?25hDownloading filelock-3.13.3-py3-none-any.whl (11 kB)\n",
      "Installing collected packages: distlib, filelock, virtualenv, pipenv\n",
      "  Attempting uninstall: filelock\n",
      "    Found existing installation: filelock 3.9.0\n",
      "    Uninstalling filelock-3.9.0:\n",
      "      Successfully uninstalled filelock-3.9.0\n",
      "Successfully installed distlib-0.3.8 filelock-3.13.3 pipenv-2023.12.1 virtualenv-20.25.1\n",
      "Note: you may need to restart the kernel to use updated packages.\n"
     ]
    }
   ],
   "source": [
    "pip install pipenv"
   ]
  },
  {
   "cell_type": "code",
   "execution_count": 28,
   "metadata": {},
   "outputs": [
    {
     "ename": "NameError",
     "evalue": "name 'shell' is not defined",
     "output_type": "error",
     "traceback": [
      "\u001b[0;31m---------------------------------------------------------------------------\u001b[0m",
      "\u001b[0;31mNameError\u001b[0m                                 Traceback (most recent call last)",
      "Cell \u001b[0;32mIn[28], line 2\u001b[0m\n\u001b[1;32m      1\u001b[0m \u001b[38;5;28;01mimport\u001b[39;00m \u001b[38;5;21;01mpipenv\u001b[39;00m\n\u001b[0;32m----> 2\u001b[0m pipenv\u001b[38;5;241m-\u001b[39mshell\n",
      "\u001b[0;31mNameError\u001b[0m: name 'shell' is not defined"
     ]
    }
   ],
   "source": [
    "import pipenv\n",
    "pipenv-shell\n"
   ]
  },
  {
   "cell_type": "code",
   "execution_count": null,
   "metadata": {},
   "outputs": [],
   "source": []
  }
 ],
 "metadata": {
  "kernelspec": {
   "display_name": "base",
   "language": "python",
   "name": "python3"
  },
  "language_info": {
   "codemirror_mode": {
    "name": "ipython",
    "version": 3
   },
   "file_extension": ".py",
   "mimetype": "text/x-python",
   "name": "python",
   "nbconvert_exporter": "python",
   "pygments_lexer": "ipython3",
   "version": "3.11.5"
  }
 },
 "nbformat": 4,
 "nbformat_minor": 2
}
