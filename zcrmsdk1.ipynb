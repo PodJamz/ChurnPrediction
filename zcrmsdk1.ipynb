{
 "cells": [
  {
   "cell_type": "code",
   "execution_count": 56,
   "metadata": {},
   "outputs": [
    {
     "ename": "ImportError",
     "evalue": "cannot import name 'ZCRMRestClient' from 'zcrmsdk' (/Users/markhenry/Downloads/untitled folder/myenv/lib/python3.11/site-packages/zcrmsdk/__init__.py)",
     "output_type": "error",
     "traceback": [
      "\u001b[0;31m---------------------------------------------------------------------------\u001b[0m",
      "\u001b[0;31mImportError\u001b[0m                               Traceback (most recent call last)",
      "Cell \u001b[0;32mIn[56], line 1\u001b[0m\n\u001b[0;32m----> 1\u001b[0m \u001b[38;5;28;01mfrom\u001b[39;00m \u001b[38;5;21;01mzcrmsdk\u001b[39;00m \u001b[38;5;28;01mimport\u001b[39;00m ZCRMRestClient, ZohoOAuth\n",
      "\u001b[0;31mImportError\u001b[0m: cannot import name 'ZCRMRestClient' from 'zcrmsdk' (/Users/markhenry/Downloads/untitled folder/myenv/lib/python3.11/site-packages/zcrmsdk/__init__.py)"
     ]
    }
   ],
   "source": [
    "from zcrmsdk import ZCRMRestClient, ZohoOAuth"
   ]
  },
  {
   "cell_type": "code",
   "execution_count": 57,
   "metadata": {},
   "outputs": [
    {
     "name": "stdout",
     "output_type": "stream",
     "text": [
      "Requirement already satisfied: zcatalyst-sdk in ./myenv/lib/python3.11/site-packages (0.0.2)\n",
      "Requirement already satisfied: requests==2.28.1 in ./myenv/lib/python3.11/site-packages (from zcatalyst-sdk) (2.28.1)\n",
      "Requirement already satisfied: charset-normalizer<3,>=2 in ./myenv/lib/python3.11/site-packages (from requests==2.28.1->zcatalyst-sdk) (2.1.1)\n",
      "Requirement already satisfied: idna<4,>=2.5 in ./myenv/lib/python3.11/site-packages (from requests==2.28.1->zcatalyst-sdk) (3.6)\n",
      "Requirement already satisfied: urllib3<1.27,>=1.21.1 in ./myenv/lib/python3.11/site-packages (from requests==2.28.1->zcatalyst-sdk) (1.26.18)\n",
      "Requirement already satisfied: certifi>=2017.4.17 in ./myenv/lib/python3.11/site-packages (from requests==2.28.1->zcatalyst-sdk) (2024.2.2)\n",
      "Note: you may need to restart the kernel to use updated packages.\n"
     ]
    }
   ],
   "source": [
    "pip install zcatalyst-sdk"
   ]
  },
  {
   "cell_type": "code",
   "execution_count": 35,
   "metadata": {},
   "outputs": [
    {
     "ename": "TypeError",
     "evalue": "unsupported operand type(s) for /: 'TokenType' and 'TokenType'",
     "output_type": "error",
     "traceback": [
      "\u001b[0;31m---------------------------------------------------------------------------\u001b[0m",
      "\u001b[0;31mTypeError\u001b[0m                                 Traceback (most recent call last)",
      "Cell \u001b[0;32mIn[35], line 2\u001b[0m\n\u001b[1;32m      1\u001b[0m \u001b[38;5;28;01mfrom\u001b[39;00m \u001b[38;5;21;01mzcrmsdk\u001b[39;00m\u001b[38;5;21;01m.\u001b[39;00m\u001b[38;5;21;01msrc\u001b[39;00m\u001b[38;5;21;01m.\u001b[39;00m\u001b[38;5;21;01mcom\u001b[39;00m\u001b[38;5;21;01m.\u001b[39;00m\u001b[38;5;21;01mzoho\u001b[39;00m\u001b[38;5;21;01m.\u001b[39;00m\u001b[38;5;21;01mapi\u001b[39;00m\u001b[38;5;21;01m.\u001b[39;00m\u001b[38;5;21;01mauthenticator\u001b[39;00m\u001b[38;5;21;01m.\u001b[39;00m\u001b[38;5;21;01moauth_token\u001b[39;00m \u001b[38;5;28;01mimport\u001b[39;00m OAuthToken, TokenType\n\u001b[0;32m----> 2\u001b[0m token \u001b[38;5;241m=\u001b[39m OAuthToken(client_id\u001b[38;5;241m=\u001b[39m\u001b[38;5;124m'\u001b[39m\u001b[38;5;124m1000.45XAELIW470RQKT9GXOZTC33HQRVZG\u001b[39m\u001b[38;5;124m'\u001b[39m, client_secret\u001b[38;5;241m=\u001b[39m\u001b[38;5;124m'\u001b[39m\u001b[38;5;124m49725b782dd4dff742fb7800bbf69c9392c6447d50\u001b[39m\u001b[38;5;124m'\u001b[39m, token\u001b[38;5;241m=\u001b[39m\u001b[38;5;124m'\u001b[39m\u001b[38;5;124m1000.7b57b2a603c84514a29463bc45f9be93.b5b2eb7887d33a9fe22c3b3914f96641\u001b[39m\u001b[38;5;124m'\u001b[39m, token_type\u001b[38;5;241m=\u001b[39m\u001b[43mTokenType\u001b[49m\u001b[38;5;241;43m.\u001b[39;49m\u001b[43mREFRESH\u001b[49m\u001b[43m \u001b[49m\u001b[38;5;241;43m/\u001b[39;49m\u001b[43m \u001b[49m\u001b[43mTokenType\u001b[49m\u001b[38;5;241;43m.\u001b[39;49m\u001b[43mGRANT\u001b[49m, redirect_url\u001b[38;5;241m=\u001b[39m\u001b[38;5;124m'\u001b[39m\u001b[38;5;124mredirectURL\u001b[39m\u001b[38;5;124m'\u001b[39m)\n",
      "\u001b[0;31mTypeError\u001b[0m: unsupported operand type(s) for /: 'TokenType' and 'TokenType'"
     ]
    }
   ],
   "source": [
    "\n",
    "from zcrmsdk.src.com.zoho.api.authenticator.oauth_token import OAuthToken, TokenType\n",
    "token = OAuthToken(client_id='1000.45XAELIW470RQKT9GXOZTC33HQRVZG', client_secret='49725b782dd4dff742fb7800bbf69c9392c6447d50', token='1000.7b57b2a603c84514a29463bc45f9be93.b5b2eb7887d33a9fe22c3b3914f96641', token_type=TokenType.REFRESH / TokenType.GRANT, redirect_url='redirectURL')\n"
   ]
  },
  {
   "cell_type": "code",
   "execution_count": 42,
   "metadata": {},
   "outputs": [
    {
     "ename": "ImportError",
     "evalue": "cannot import name 'ZCRMRestClient' from 'zcrmsdk.src.com.zoho.api.authenticator.oauth_token' (/Users/markhenry/Downloads/untitled folder/myenv/lib/python3.11/site-packages/zcrmsdk/src/com/zoho/api/authenticator/oauth_token.py)",
     "output_type": "error",
     "traceback": [
      "\u001b[0;31m---------------------------------------------------------------------------\u001b[0m",
      "\u001b[0;31mImportError\u001b[0m                               Traceback (most recent call last)",
      "Cell \u001b[0;32mIn[42], line 1\u001b[0m\n\u001b[0;32m----> 1\u001b[0m \u001b[38;5;28;01mfrom\u001b[39;00m \u001b[38;5;21;01mzcrmsdk\u001b[39;00m\u001b[38;5;21;01m.\u001b[39;00m\u001b[38;5;21;01msrc\u001b[39;00m\u001b[38;5;21;01m.\u001b[39;00m\u001b[38;5;21;01mcom\u001b[39;00m\u001b[38;5;21;01m.\u001b[39;00m\u001b[38;5;21;01mzoho\u001b[39;00m\u001b[38;5;21;01m.\u001b[39;00m\u001b[38;5;21;01mapi\u001b[39;00m\u001b[38;5;21;01m.\u001b[39;00m\u001b[38;5;21;01mauthenticator\u001b[39;00m\u001b[38;5;21;01m.\u001b[39;00m\u001b[38;5;21;01moauth_token\u001b[39;00m \u001b[38;5;28;01mimport\u001b[39;00m OAuthToken, TokenType, ZCRMRestClient\n\u001b[1;32m      3\u001b[0m token \u001b[38;5;241m=\u001b[39m OAuthToken(\n\u001b[1;32m      4\u001b[0m     client_id\u001b[38;5;241m=\u001b[39m\u001b[38;5;124m'\u001b[39m\u001b[38;5;124m1000.45XAELIW470RQKT9GXOZTC33HQRVZG\u001b[39m\u001b[38;5;124m'\u001b[39m,\n\u001b[1;32m      5\u001b[0m     client_secret\u001b[38;5;241m=\u001b[39m\u001b[38;5;124m'\u001b[39m\u001b[38;5;124m49725b782dd4dff742fb7800bbf69c9392c6447d50\u001b[39m\u001b[38;5;124m'\u001b[39m,\n\u001b[0;32m   (...)\u001b[0m\n\u001b[1;32m      9\u001b[0m \n\u001b[1;32m     10\u001b[0m )\n",
      "\u001b[0;31mImportError\u001b[0m: cannot import name 'ZCRMRestClient' from 'zcrmsdk.src.com.zoho.api.authenticator.oauth_token' (/Users/markhenry/Downloads/untitled folder/myenv/lib/python3.11/site-packages/zcrmsdk/src/com/zoho/api/authenticator/oauth_token.py)"
     ]
    }
   ],
   "source": [
    "from zcrmsdk.src.com.zoho.api.authenticator.oauth_token import OAuthToken, TokenType\n",
    "\n",
    "token = OAuthToken(\n",
    "    client_id='1000.45XAELIW470RQKT9GXOZTC33HQRVZG',\n",
    "    client_secret='49725b782dd4dff742fb7800bbf69c9392c6447d50',\n",
    "    token='1000.7b57b2a603c84514a29463bc45f9be93.b5b2eb7887d33a9fe22c3b3914f96641',\n",
    "    token_type=TokenType.REFRESH,  # or TokenType.GRANT\n",
    "    redirect_url='https://api.catalyst.zoho.com/quickml/v1/project/17937000000033012/endpoints/predict'\n",
    "\n",
    ")"
   ]
  },
  {
   "cell_type": "code",
   "execution_count": 43,
   "metadata": {},
   "outputs": [
    {
     "ename": "ImportError",
     "evalue": "cannot import name 'ZCRMRestClient' from 'zcrmsdk' (/Users/markhenry/Downloads/untitled folder/myenv/lib/python3.11/site-packages/zcrmsdk/__init__.py)",
     "output_type": "error",
     "traceback": [
      "\u001b[0;31m---------------------------------------------------------------------------\u001b[0m",
      "\u001b[0;31mImportError\u001b[0m                               Traceback (most recent call last)",
      "Cell \u001b[0;32mIn[43], line 1\u001b[0m\n\u001b[0;32m----> 1\u001b[0m \u001b[38;5;28;01mfrom\u001b[39;00m \u001b[38;5;21;01mzcrmsdk\u001b[39;00m \u001b[38;5;28;01mimport\u001b[39;00m ZCRMRestClient\n\u001b[1;32m      2\u001b[0m ZCRMRestClient\u001b[38;5;241m.\u001b[39minitialize({\u001b[38;5;124m'\u001b[39m\u001b[38;5;124moauth_tokens\u001b[39m\u001b[38;5;124m'\u001b[39m: [token]})\n",
      "\u001b[0;31mImportError\u001b[0m: cannot import name 'ZCRMRestClient' from 'zcrmsdk' (/Users/markhenry/Downloads/untitled folder/myenv/lib/python3.11/site-packages/zcrmsdk/__init__.py)"
     ]
    }
   ],
   "source": [
    "from zcrmsdk import ZCRMRestClient\n",
    "ZCRMRestClient.initialize({'oauth_tokens': [token]})"
   ]
  },
  {
   "cell_type": "code",
   "execution_count": 28,
   "metadata": {},
   "outputs": [],
   "source": [
    "import zcrmsdk"
   ]
  },
  {
   "cell_type": "code",
   "execution_count": 51,
   "metadata": {},
   "outputs": [
    {
     "ename": "TypeError",
     "evalue": "unsupported operand type(s) for /: 'TokenType' and 'TokenType'",
     "output_type": "error",
     "traceback": [
      "\u001b[0;31m---------------------------------------------------------------------------\u001b[0m",
      "\u001b[0;31mTypeError\u001b[0m                                 Traceback (most recent call last)",
      "Cell \u001b[0;32mIn[51], line 102\u001b[0m\n\u001b[1;32m     88\u001b[0m \u001b[38;5;250m        \u001b[39m\u001b[38;5;124;03m\"\"\"\u001b[39;00m\n\u001b[1;32m     89\u001b[0m \u001b[38;5;124;03m        Call the static initialize method of Initializer class that takes the following arguments\u001b[39;00m\n\u001b[1;32m     90\u001b[0m \u001b[38;5;124;03m        1 -> UserSignature instance\u001b[39;00m\n\u001b[0;32m   (...)\u001b[0m\n\u001b[1;32m     97\u001b[0m \u001b[38;5;124;03m        8 -> RequestProxy instance. Default value is None\u001b[39;00m\n\u001b[1;32m     98\u001b[0m \u001b[38;5;124;03m        \"\"\"\u001b[39;00m\n\u001b[1;32m     99\u001b[0m         Initializer\u001b[38;5;241m.\u001b[39minitialize(user\u001b[38;5;241m=\u001b[39muser, environment\u001b[38;5;241m=\u001b[39menvironment, token\u001b[38;5;241m=\u001b[39mtoken, store\u001b[38;5;241m=\u001b[39mstore, sdk_config\u001b[38;5;241m=\u001b[39mconfig, resource_path\u001b[38;5;241m=\u001b[39mresource_path, logger\u001b[38;5;241m=\u001b[39mlogger, proxy\u001b[38;5;241m=\u001b[39mrequest_proxy)\n\u001b[0;32m--> 102\u001b[0m \u001b[43mSDKInitializer\u001b[49m\u001b[38;5;241;43m.\u001b[39;49m\u001b[43minitialize\u001b[49m\u001b[43m(\u001b[49m\u001b[43m)\u001b[49m\n",
      "Cell \u001b[0;32mIn[51], line 41\u001b[0m, in \u001b[0;36mSDKInitializer.initialize\u001b[0;34m()\u001b[0m\n\u001b[1;32m     31\u001b[0m environment \u001b[38;5;241m=\u001b[39m USDataCenter\u001b[38;5;241m.\u001b[39mPRODUCTION()\n\u001b[1;32m     33\u001b[0m \u001b[38;5;250m\u001b[39m\u001b[38;5;124;03m\"\"\"\u001b[39;00m\n\u001b[1;32m     34\u001b[0m \u001b[38;5;124;03mCreate a Token instance that takes the following parameters\u001b[39;00m\n\u001b[1;32m     35\u001b[0m \u001b[38;5;124;03m1 -> OAuth client id.\u001b[39;00m\n\u001b[0;32m   (...)\u001b[0m\n\u001b[1;32m     39\u001b[0m \u001b[38;5;124;03m5 -> OAuth redirect URL.\u001b[39;00m\n\u001b[1;32m     40\u001b[0m \u001b[38;5;124;03m\"\"\"\u001b[39;00m\n\u001b[0;32m---> 41\u001b[0m token \u001b[38;5;241m=\u001b[39m OAuthToken(client_id\u001b[38;5;241m=\u001b[39m\u001b[38;5;124m'\u001b[39m\u001b[38;5;124mclientId\u001b[39m\u001b[38;5;124m'\u001b[39m, client_secret\u001b[38;5;241m=\u001b[39m\u001b[38;5;124m'\u001b[39m\u001b[38;5;124mclientSecret\u001b[39m\u001b[38;5;124m'\u001b[39m, token\u001b[38;5;241m=\u001b[39m\u001b[38;5;124m'\u001b[39m\u001b[38;5;124mREFRESH/ GRANT Token\u001b[39m\u001b[38;5;124m'\u001b[39m, token_type\u001b[38;5;241m=\u001b[39m\u001b[43mTokenType\u001b[49m\u001b[38;5;241;43m.\u001b[39;49m\u001b[43mREFRESH\u001b[49m\u001b[43m \u001b[49m\u001b[38;5;241;43m/\u001b[39;49m\u001b[43m \u001b[49m\u001b[43mTokenType\u001b[49m\u001b[38;5;241;43m.\u001b[39;49m\u001b[43mGRANT\u001b[49m, redirect_url\u001b[38;5;241m=\u001b[39m\u001b[38;5;124m'\u001b[39m\u001b[38;5;124mredirectURL\u001b[39m\u001b[38;5;124m'\u001b[39m)\n\u001b[1;32m     43\u001b[0m \u001b[38;5;250m\u001b[39m\u001b[38;5;124;03m\"\"\"\u001b[39;00m\n\u001b[1;32m     44\u001b[0m \u001b[38;5;124;03mCreate an instance of TokenStore\u001b[39;00m\n\u001b[1;32m     45\u001b[0m \u001b[38;5;124;03m1 -> Absolute file path of the file to persist tokens\u001b[39;00m\n\u001b[1;32m     46\u001b[0m \u001b[38;5;124;03m\"\"\"\u001b[39;00m\n\u001b[1;32m     47\u001b[0m store \u001b[38;5;241m=\u001b[39m FileStore(file_path\u001b[38;5;241m=\u001b[39m\u001b[38;5;124m'\u001b[39m\u001b[38;5;124m/Users/username/Documents/python_sdk_tokens.txt\u001b[39m\u001b[38;5;124m'\u001b[39m)\n",
      "\u001b[0;31mTypeError\u001b[0m: unsupported operand type(s) for /: 'TokenType' and 'TokenType'"
     ]
    }
   ],
   "source": [
    "from zcrmsdk.src.com.zoho.crm.api.user_signature import UserSignature\n",
    "from zcrmsdk.src.com.zoho.crm.api.dc import USDataCenter\n",
    "from zcrmsdk.src.com.zoho.api.authenticator.store import DBStore, FileStore\n",
    "from zcrmsdk.src.com.zoho.api.logger import Logger\n",
    "from zcrmsdk.src.com.zoho.crm.api.initializer import Initializer\n",
    "from zcrmsdk.src.com.zoho.api.authenticator.oauth_token import OAuthToken, TokenType\n",
    "from zcrmsdk.src.com.zoho.crm.api.sdk_config import SDKConfig\n",
    "\n",
    "\n",
    "class SDKInitializer(object):\n",
    "\n",
    "    @staticmethod\n",
    "    def initialize():\n",
    "\n",
    "        \"\"\"\n",
    "        Create an instance of Logger Class that takes two parameters\n",
    "        1 -> Level of the log messages to be logged. Can be configured by typing Logger.Levels \".\" and choose any level from the list displayed.\n",
    "        2 -> Absolute file path, where messages need to be logged.\n",
    "        \"\"\"\n",
    "        logger = Logger.get_instance(level=Logger.Levels.INFO, file_path='/Users/user_name/Documents/python_sdk_log.log')\n",
    "\n",
    "        # Create an UserSignature instance that takes user Email as parameter\n",
    "        user = UserSignature(email='abc@zoho.com')\n",
    "\n",
    "        \"\"\"\n",
    "        Configure the environment\n",
    "        which is of the pattern Domain.Environment\n",
    "        Available Domains: USDataCenter, EUDataCenter, INDataCenter, CNDataCenter, AUDataCenter\n",
    "        Available Environments: PRODUCTION(), DEVELOPER(), SANDBOX()\n",
    "        \"\"\"\n",
    "        environment = USDataCenter.PRODUCTION()\n",
    "\n",
    "        \"\"\"\n",
    "        Create a Token instance that takes the following parameters\n",
    "        1 -> OAuth client id.\n",
    "        2 -> OAuth client secret.\n",
    "        3 -> REFRESH/GRANT token.\n",
    "        4 -> token type.\n",
    "        5 -> OAuth redirect URL.\n",
    "        \"\"\"\n",
    "        token = OAuthToken(client_id='clientId', client_secret='clientSecret', token='REFRESH/ GRANT Token', token_type=TokenType.REFRESH / TokenType.GRANT, redirect_url='redirectURL')\n",
    "\n",
    "        \"\"\"\n",
    "        Create an instance of TokenStore\n",
    "        1 -> Absolute file path of the file to persist tokens\n",
    "        \"\"\"\n",
    "        store = FileStore(file_path='/Users/username/Documents/python_sdk_tokens.txt')\n",
    "\n",
    "        \"\"\"\n",
    "        Create an instance of TokenStore\n",
    "        1 -> DataBase host name. Default value \"localhost\"\n",
    "        2 -> DataBase name. Default value \"zohooauth\"\n",
    "        3 -> DataBase user name. Default value \"root\"\n",
    "        4 -> DataBase password. Default value \"\"\n",
    "        5 -> DataBase port number. Default value \"3306\"\n",
    "        \"\"\"\n",
    "        store = DBStore()\n",
    "        store = DBStore(host='host_name', database_name='database_name', user_name='user_name', password='password',port_number='port_number')\n",
    "\n",
    "        \"\"\"\n",
    "        auto_refresh_fields (Default value is False)\n",
    "            if True - all the modules' fields will be auto-refreshed in the background, every hour.\n",
    "            if False - the fields will not be auto-refreshed in the background. The user can manually delete the file(s) or refresh the fields using methods from ModuleFieldsHandler(zcrmsdk/src/com/zoho/crm/api/util/module_fields_handler.py)\n",
    "\n",
    "        pick_list_validation (Default value is True)\n",
    "        A boolean field that validates user input for a pick list field and allows or disallows the addition of a new value to the list.\n",
    "            if True - the SDK validates the input. If the value does not exist in the pick list, the SDK throws an error.\n",
    "            if False - the SDK does not validate the input and makes the API request with the user’s input to the pick list\n",
    "        \"\"\"\n",
    "        config = SDKConfig(auto_refresh_fields=True, pick_list_validation=False)\n",
    "\n",
    "        \"\"\"\n",
    "        The path containing the absolute directory path (in the key resource_path) to store user-specific files containing information about fields in modules. \n",
    "        \"\"\"\n",
    "        resource_path = '/Users/user_name/Documents/python-app'\n",
    "\n",
    "        \"\"\"\n",
    "        Create an instance of RequestProxy class that takes the following parameters\n",
    "        1 -> Host\n",
    "        2 -> Port Number\n",
    "        3 -> User Name. Default value is None\n",
    "        4 -> Password. Default value is None\n",
    "        \"\"\"\n",
    "        request_proxy = RequestProxy(host='host', port=8080)\n",
    "\n",
    "        request_proxy = RequestProxy(host='host', port=8080, user='user', password='password')\n",
    "\n",
    "        \"\"\"\n",
    "        Call the static initialize method of Initializer class that takes the following arguments\n",
    "        1 -> UserSignature instance\n",
    "        2 -> Environment instance\n",
    "        3 -> Token instance\n",
    "        4 -> TokenStore instance\n",
    "        5 -> SDKConfig instance\n",
    "        6 -> resource_path\n",
    "        7 -> Logger instance. Default value is None\n",
    "        8 -> RequestProxy instance. Default value is None\n",
    "        \"\"\"\n",
    "        Initializer.initialize(user=user, environment=environment, token=token, store=store, sdk_config=config, resource_path=resource_path, logger=logger, proxy=request_proxy)\n",
    "\n",
    "\n",
    "SDKInitializer.initialize()"
   ]
  },
  {
   "cell_type": "code",
   "execution_count": 66,
   "metadata": {},
   "outputs": [
    {
     "name": "stdout",
     "output_type": "stream",
     "text": [
      "Requirement already satisfied: Catalyst in ./myenv/lib/python3.11/site-packages (22.4)\n",
      "Requirement already satisfied: numpy>=1.18 in ./myenv/lib/python3.11/site-packages (from Catalyst) (1.26.4)\n",
      "Requirement already satisfied: torch>=1.4.0 in ./myenv/lib/python3.11/site-packages (from Catalyst) (2.2.2)\n",
      "Requirement already satisfied: accelerate>=0.5.1 in ./myenv/lib/python3.11/site-packages (from Catalyst) (0.28.0)\n",
      "Requirement already satisfied: hydra-slayer>=0.4.0 in ./myenv/lib/python3.11/site-packages (from Catalyst) (0.5.0)\n",
      "Requirement already satisfied: tqdm>=4.33.0 in ./myenv/lib/python3.11/site-packages (from Catalyst) (4.66.2)\n",
      "Requirement already satisfied: tensorboardX>=2.1.0 in ./myenv/lib/python3.11/site-packages (from Catalyst) (2.6.2.2)\n",
      "Requirement already satisfied: packaging>=20.0 in ./myenv/lib/python3.11/site-packages (from accelerate>=0.5.1->Catalyst) (24.0)\n",
      "Requirement already satisfied: psutil in ./myenv/lib/python3.11/site-packages (from accelerate>=0.5.1->Catalyst) (5.9.8)\n",
      "Requirement already satisfied: pyyaml in ./myenv/lib/python3.11/site-packages (from accelerate>=0.5.1->Catalyst) (6.0.1)\n",
      "Requirement already satisfied: huggingface-hub in ./myenv/lib/python3.11/site-packages (from accelerate>=0.5.1->Catalyst) (0.22.2)\n",
      "Requirement already satisfied: safetensors>=0.3.1 in ./myenv/lib/python3.11/site-packages (from accelerate>=0.5.1->Catalyst) (0.4.2)\n",
      "Requirement already satisfied: protobuf>=3.20 in ./myenv/lib/python3.11/site-packages (from tensorboardX>=2.1.0->Catalyst) (5.26.1)\n",
      "Requirement already satisfied: filelock in ./myenv/lib/python3.11/site-packages (from torch>=1.4.0->Catalyst) (3.13.3)\n",
      "Requirement already satisfied: typing-extensions>=4.8.0 in ./myenv/lib/python3.11/site-packages (from torch>=1.4.0->Catalyst) (4.10.0)\n",
      "Requirement already satisfied: sympy in ./myenv/lib/python3.11/site-packages (from torch>=1.4.0->Catalyst) (1.12)\n",
      "Requirement already satisfied: networkx in ./myenv/lib/python3.11/site-packages (from torch>=1.4.0->Catalyst) (3.2.1)\n",
      "Requirement already satisfied: jinja2 in ./myenv/lib/python3.11/site-packages (from torch>=1.4.0->Catalyst) (3.1.3)\n",
      "Requirement already satisfied: fsspec in ./myenv/lib/python3.11/site-packages (from torch>=1.4.0->Catalyst) (2024.3.1)\n",
      "Requirement already satisfied: requests in ./myenv/lib/python3.11/site-packages (from huggingface-hub->accelerate>=0.5.1->Catalyst) (2.28.1)\n",
      "Requirement already satisfied: MarkupSafe>=2.0 in ./myenv/lib/python3.11/site-packages (from jinja2->torch>=1.4.0->Catalyst) (2.1.5)\n",
      "Requirement already satisfied: mpmath>=0.19 in ./myenv/lib/python3.11/site-packages (from sympy->torch>=1.4.0->Catalyst) (1.3.0)\n",
      "Requirement already satisfied: charset-normalizer<3,>=2 in ./myenv/lib/python3.11/site-packages (from requests->huggingface-hub->accelerate>=0.5.1->Catalyst) (2.1.1)\n",
      "Requirement already satisfied: idna<4,>=2.5 in ./myenv/lib/python3.11/site-packages (from requests->huggingface-hub->accelerate>=0.5.1->Catalyst) (3.6)\n",
      "Requirement already satisfied: urllib3<1.27,>=1.21.1 in ./myenv/lib/python3.11/site-packages (from requests->huggingface-hub->accelerate>=0.5.1->Catalyst) (1.26.18)\n",
      "Requirement already satisfied: certifi>=2017.4.17 in ./myenv/lib/python3.11/site-packages (from requests->huggingface-hub->accelerate>=0.5.1->Catalyst) (2024.2.2)\n",
      "Note: you may need to restart the kernel to use updated packages.\n"
     ]
    }
   ],
   "source": [
    "pip install Catalyst"
   ]
  },
  {
   "cell_type": "code",
   "execution_count": 69,
   "metadata": {},
   "outputs": [
    {
     "ename": "ModuleNotFoundError",
     "evalue": "No module named 'Catalyst'",
     "output_type": "error",
     "traceback": [
      "\u001b[0;31m---------------------------------------------------------------------------\u001b[0m",
      "\u001b[0;31mModuleNotFoundError\u001b[0m                       Traceback (most recent call last)",
      "Cell \u001b[0;32mIn[69], line 1\u001b[0m\n\u001b[0;32m----> 1\u001b[0m \u001b[38;5;28;01mfrom\u001b[39;00m \u001b[38;5;21;01mCatalyst\u001b[39;00m \u001b[38;5;28;01mimport\u001b[39;00m Catalyst\n\u001b[1;32m      3\u001b[0m catalyst_app \u001b[38;5;241m=\u001b[39m Catalyst\u001b[38;5;241m.\u001b[39minitialize()\n",
      "\u001b[0;31mModuleNotFoundError\u001b[0m: No module named 'Catalyst'"
     ]
    }
   ],
   "source": [
    "from Catalyst import Catalyst\n",
    "\n",
    "catalyst_app = Catalyst.initialize()"
   ]
  }
 ],
 "metadata": {
  "kernelspec": {
   "display_name": "myenv",
   "language": "python",
   "name": "python3"
  },
  "language_info": {
   "codemirror_mode": {
    "name": "ipython",
    "version": 3
   },
   "file_extension": ".py",
   "mimetype": "text/x-python",
   "name": "python",
   "nbconvert_exporter": "python",
   "pygments_lexer": "ipython3",
   "version": "3.11.5"
  }
 },
 "nbformat": 4,
 "nbformat_minor": 2
}
